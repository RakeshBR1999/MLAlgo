{
 "cells": [
  {
   "cell_type": "markdown",
   "metadata": {
    "colab_type": "text",
    "id": "3DR-eO17geWu"
   },
   "source": [
    "# Convolutional Neural Network"
   ]
  },
  {
   "cell_type": "markdown",
   "metadata": {
    "colab_type": "text",
    "id": "EMefrVPCg-60"
   },
   "source": [
    "### Importing the libraries"
   ]
  },
  {
   "cell_type": "code",
   "execution_count": 1,
   "metadata": {
    "colab": {},
    "colab_type": "code",
    "id": "sCV30xyVhFbE"
   },
   "outputs": [
    {
     "name": "stderr",
     "output_type": "stream",
     "text": [
      "Using TensorFlow backend.\n"
     ]
    }
   ],
   "source": [
    "import tensorflow as tf\n",
    "from keras.preprocessing.image import ImageDataGenerator"
   ]
  },
  {
   "cell_type": "code",
   "execution_count": 2,
   "metadata": {
    "colab": {},
    "colab_type": "code",
    "id": "FIleuCAjoFD8"
   },
   "outputs": [
    {
     "data": {
      "text/plain": [
       "'1.10.0'"
      ]
     },
     "execution_count": 2,
     "metadata": {},
     "output_type": "execute_result"
    }
   ],
   "source": [
    "tf.__version__"
   ]
  },
  {
   "cell_type": "markdown",
   "metadata": {
    "colab_type": "text",
    "id": "oxQxCBWyoGPE"
   },
   "source": [
    "## Part 1 - Data Preprocessing"
   ]
  },
  {
   "cell_type": "markdown",
   "metadata": {
    "colab_type": "text",
    "id": "MvE-heJNo3GG"
   },
   "source": [
    "### Preprocessing the Training set"
   ]
  },
  {
   "cell_type": "code",
   "execution_count": 3,
   "metadata": {
    "colab": {},
    "colab_type": "code",
    "id": "0koUcJMJpEBD"
   },
   "outputs": [
    {
     "name": "stdout",
     "output_type": "stream",
     "text": [
      "Found 8000 images belonging to 2 classes.\n"
     ]
    }
   ],
   "source": [
    "train_datagen = ImageDataGenerator(rescale = 1./255,\n",
    "                                   shear_range = 0.2,\n",
    "                                   zoom_range = 0.2,\n",
    "                                   horizontal_flip = True)\n",
    "training_set = train_datagen.flow_from_directory('dataset/training_set',\n",
    "                                                 target_size = (64, 64),\n",
    "                                                 batch_size = 32,\n",
    "                                                 class_mode = 'binary')"
   ]
  },
  {
   "cell_type": "markdown",
   "metadata": {
    "colab_type": "text",
    "id": "mrCMmGw9pHys"
   },
   "source": [
    "### Preprocessing the Test set"
   ]
  },
  {
   "cell_type": "code",
   "execution_count": 4,
   "metadata": {
    "colab": {},
    "colab_type": "code",
    "id": "SH4WzfOhpKc3"
   },
   "outputs": [
    {
     "name": "stdout",
     "output_type": "stream",
     "text": [
      "Found 2000 images belonging to 2 classes.\n"
     ]
    }
   ],
   "source": [
    "test_datagen = ImageDataGenerator(rescale = 1./255)\n",
    "test_set = test_datagen.flow_from_directory('dataset/test_set',\n",
    "                                            target_size = (64, 64),\n",
    "                                            batch_size = 32,\n",
    "                                            class_mode = 'binary')"
   ]
  },
  {
   "cell_type": "markdown",
   "metadata": {
    "colab_type": "text",
    "id": "af8O4l90gk7B"
   },
   "source": [
    "## Part 2 - Building the CNN"
   ]
  },
  {
   "cell_type": "markdown",
   "metadata": {
    "colab_type": "text",
    "id": "ces1gXY2lmoX"
   },
   "source": [
    "### Initialising the CNN"
   ]
  },
  {
   "cell_type": "code",
   "execution_count": 5,
   "metadata": {
    "colab": {},
    "colab_type": "code",
    "id": "SAUt4UMPlhLS"
   },
   "outputs": [],
   "source": [
    "cnn = tf.keras.models.Sequential()"
   ]
  },
  {
   "cell_type": "markdown",
   "metadata": {
    "colab_type": "text",
    "id": "u5YJj_XMl5LF"
   },
   "source": [
    "### Step 1 - Convolution"
   ]
  },
  {
   "cell_type": "code",
   "execution_count": 6,
   "metadata": {
    "colab": {},
    "colab_type": "code",
    "id": "XPzPrMckl-hV"
   },
   "outputs": [],
   "source": [
    "cnn.add(tf.keras.layers.Conv2D(filters=32, kernel_size=3, activation='relu', input_shape=[64, 64, 3]))"
   ]
  },
  {
   "cell_type": "markdown",
   "metadata": {
    "colab_type": "text",
    "id": "tf87FpvxmNOJ"
   },
   "source": [
    "### Step 2 - Pooling"
   ]
  },
  {
   "cell_type": "code",
   "execution_count": 7,
   "metadata": {
    "colab": {},
    "colab_type": "code",
    "id": "ncpqPl69mOac"
   },
   "outputs": [],
   "source": [
    "cnn.add(tf.keras.layers.MaxPool2D(pool_size=2, strides=2))"
   ]
  },
  {
   "cell_type": "markdown",
   "metadata": {
    "colab_type": "text",
    "id": "xaTOgD8rm4mU"
   },
   "source": [
    "### Adding a second convolutional layer"
   ]
  },
  {
   "cell_type": "code",
   "execution_count": 8,
   "metadata": {
    "colab": {},
    "colab_type": "code",
    "id": "i_-FZjn_m8gk"
   },
   "outputs": [],
   "source": [
    "cnn.add(tf.keras.layers.Conv2D(filters=32, kernel_size=3, activation='relu'))\n",
    "cnn.add(tf.keras.layers.MaxPool2D(pool_size=2, strides=2))"
   ]
  },
  {
   "cell_type": "markdown",
   "metadata": {
    "colab_type": "text",
    "id": "tmiEuvTunKfk"
   },
   "source": [
    "### Step 3 - Flattening"
   ]
  },
  {
   "cell_type": "code",
   "execution_count": 9,
   "metadata": {
    "colab": {},
    "colab_type": "code",
    "id": "6AZeOGCvnNZn"
   },
   "outputs": [],
   "source": [
    "cnn.add(tf.keras.layers.Flatten())"
   ]
  },
  {
   "cell_type": "markdown",
   "metadata": {
    "colab_type": "text",
    "id": "dAoSECOm203v"
   },
   "source": [
    "### Step 4 - Full Connection"
   ]
  },
  {
   "cell_type": "code",
   "execution_count": 10,
   "metadata": {
    "colab": {},
    "colab_type": "code",
    "id": "8GtmUlLd26Nq"
   },
   "outputs": [],
   "source": [
    "cnn.add(tf.keras.layers.Dense(units=128, activation='relu'))"
   ]
  },
  {
   "cell_type": "markdown",
   "metadata": {
    "colab_type": "text",
    "id": "yTldFvbX28Na"
   },
   "source": [
    "### Step 5 - Output Layer"
   ]
  },
  {
   "cell_type": "code",
   "execution_count": 11,
   "metadata": {
    "colab": {},
    "colab_type": "code",
    "id": "1p_Zj1Mc3Ko_"
   },
   "outputs": [],
   "source": [
    "cnn.add(tf.keras.layers.Dense(units=1, activation='sigmoid'))"
   ]
  },
  {
   "cell_type": "markdown",
   "metadata": {
    "colab_type": "text",
    "id": "D6XkI90snSDl"
   },
   "source": [
    "## Part 3 - Training the CNN"
   ]
  },
  {
   "cell_type": "markdown",
   "metadata": {
    "colab_type": "text",
    "id": "vfrFQACEnc6i"
   },
   "source": [
    "### Compiling the CNN"
   ]
  },
  {
   "cell_type": "code",
   "execution_count": 14,
   "metadata": {
    "colab": {},
    "colab_type": "code",
    "id": "NALksrNQpUlJ"
   },
   "outputs": [],
   "source": [
    "cnn.compile(optimizer = 'adam', loss = 'binary_crossentropy', metrics = ['accuracy'])"
   ]
  },
  {
   "cell_type": "markdown",
   "metadata": {
    "colab_type": "text",
    "id": "ehS-v3MIpX2h"
   },
   "source": [
    "### Training the CNN on the Training set and evaluating it on the Test set"
   ]
  },
  {
   "cell_type": "code",
   "execution_count": 48,
   "metadata": {
    "colab": {},
    "colab_type": "code",
    "id": "XUj1W4PJptta"
   },
   "outputs": [
    {
     "name": "stdout",
     "output_type": "stream",
     "text": [
      "Epoch 1/25\n",
      "100/100 [==============================] - 72s 725ms/step - loss: 0.4703 - acc: 0.7678 - val_loss: 0.4777 - val_acc: 0.7718\n",
      "Epoch 2/25\n",
      "100/100 [==============================] - 72s 725ms/step - loss: 0.4778 - acc: 0.7697 - val_loss: 0.5042 - val_acc: 0.7626\n",
      "Epoch 3/25\n",
      "100/100 [==============================] - 72s 724ms/step - loss: 0.4658 - acc: 0.7812 - val_loss: 0.5287 - val_acc: 0.7620\n",
      "Epoch 4/25\n",
      "100/100 [==============================] - 73s 725ms/step - loss: 0.4706 - acc: 0.7772 - val_loss: 0.5099 - val_acc: 0.7626\n",
      "Epoch 5/25\n",
      "100/100 [==============================] - 73s 726ms/step - loss: 0.4466 - acc: 0.7878 - val_loss: 0.4948 - val_acc: 0.7693\n",
      "Epoch 6/25\n",
      "100/100 [==============================] - 73s 725ms/step - loss: 0.4618 - acc: 0.7734 - val_loss: 0.4804 - val_acc: 0.7798\n",
      "Epoch 7/25\n",
      "100/100 [==============================] - 72s 724ms/step - loss: 0.4614 - acc: 0.7906 - val_loss: 0.4809 - val_acc: 0.7737\n",
      "Epoch 8/25\n",
      "100/100 [==============================] - 72s 725ms/step - loss: 0.4467 - acc: 0.7934 - val_loss: 0.4814 - val_acc: 0.7680\n",
      "Epoch 9/25\n",
      "100/100 [==============================] - 72s 724ms/step - loss: 0.4388 - acc: 0.7916 - val_loss: 0.4687 - val_acc: 0.7828\n",
      "Epoch 10/25\n",
      "100/100 [==============================] - 73s 725ms/step - loss: 0.4289 - acc: 0.7991 - val_loss: 0.4804 - val_acc: 0.7717\n",
      "Epoch 11/25\n",
      "100/100 [==============================] - 72s 724ms/step - loss: 0.4115 - acc: 0.8000 - val_loss: 0.4838 - val_acc: 0.7768\n",
      "Epoch 12/25\n",
      "100/100 [==============================] - 73s 726ms/step - loss: 0.4311 - acc: 0.7913 - val_loss: 0.4566 - val_acc: 0.7771\n",
      "Epoch 13/25\n",
      "100/100 [==============================] - 73s 728ms/step - loss: 0.4045 - acc: 0.8059 - val_loss: 0.4824 - val_acc: 0.7749\n",
      "Epoch 14/25\n",
      "100/100 [==============================] - 72s 724ms/step - loss: 0.4050 - acc: 0.8100 - val_loss: 0.4587 - val_acc: 0.7893\n",
      "Epoch 15/25\n",
      "100/100 [==============================] - 73s 726ms/step - loss: 0.3863 - acc: 0.8178 - val_loss: 0.5163 - val_acc: 0.7582\n",
      "Epoch 16/25\n",
      "100/100 [==============================] - 73s 726ms/step - loss: 0.4276 - acc: 0.8016 - val_loss: 0.4595 - val_acc: 0.7898\n",
      "Epoch 17/25\n",
      "100/100 [==============================] - 73s 727ms/step - loss: 0.3872 - acc: 0.8322 - val_loss: 0.4539 - val_acc: 0.7923\n",
      "Epoch 18/25\n",
      "100/100 [==============================] - 73s 725ms/step - loss: 0.3998 - acc: 0.8122 - val_loss: 0.4633 - val_acc: 0.7933\n",
      "Epoch 19/25\n",
      "100/100 [==============================] - 72s 722ms/step - loss: 0.3882 - acc: 0.8281 - val_loss: 0.4860 - val_acc: 0.7879\n",
      "Epoch 20/25\n",
      "100/100 [==============================] - 73s 726ms/step - loss: 0.4084 - acc: 0.8109 - val_loss: 0.5051 - val_acc: 0.7636\n",
      "Epoch 21/25\n",
      "100/100 [==============================] - 73s 735ms/step - loss: 0.3706 - acc: 0.8325 - val_loss: 0.4892 - val_acc: 0.7784\n",
      "Epoch 22/25\n",
      "100/100 [==============================] - 74s 742ms/step - loss: 0.3680 - acc: 0.8366 - val_loss: 0.4861 - val_acc: 0.7833\n",
      "Epoch 23/25\n",
      "100/100 [==============================] - 75s 749ms/step - loss: 0.3706 - acc: 0.8375 - val_loss: 0.4667 - val_acc: 0.7996\n",
      "Epoch 24/25\n",
      "100/100 [==============================] - 72s 724ms/step - loss: 0.3609 - acc: 0.8341 - val_loss: 0.4523 - val_acc: 0.7920\n",
      "Epoch 25/25\n",
      "100/100 [==============================] - 72s 724ms/step - loss: 0.3502 - acc: 0.8403 - val_loss: 0.4612 - val_acc: 0.7911\n"
     ]
    },
    {
     "data": {
      "text/plain": [
       "<tensorflow.python.keras.callbacks.History at 0x7fc370096a90>"
      ]
     },
     "execution_count": 48,
     "metadata": {},
     "output_type": "execute_result"
    }
   ],
   "source": [
    "import numpy as np\n",
    "cnn.fit_generator(training_set, validation_data = test_set, epochs = 25,steps_per_epoch=100,validation_steps=100)\n",
    "# cnn.fit(np.array(training_set), np.array(test_set), epochs = 25)"
   ]
  },
  {
   "cell_type": "markdown",
   "metadata": {
    "colab_type": "text",
    "id": "U3PZasO0006Z"
   },
   "source": [
    "## Part 4 - Making a single prediction"
   ]
  },
  {
   "cell_type": "code",
   "execution_count": 80,
   "metadata": {
    "colab": {},
    "colab_type": "code",
    "id": "gsSiWEJY1BPB"
   },
   "outputs": [],
   "source": [
    "import numpy as np\n",
    "from keras.preprocessing import image\n",
    "test_image = image.load_img('dataset/single_prediction/cat_or_dog_6.jpg', target_size = (64, 64))\n",
    "test_image = image.img_to_array(test_image)\n",
    "test_image = np.expand_dims(test_image, axis = 0)\n",
    "result = cnn.predict(test_image)\n",
    "training_set.class_indices\n",
    "if result[0][0] == 1:\n",
    "  prediction = 'dog'\n",
    "else:\n",
    "  prediction = 'cat'"
   ]
  },
  {
   "cell_type": "code",
   "execution_count": 81,
   "metadata": {
    "colab": {},
    "colab_type": "code",
    "id": "ED9KB3I54c1i"
   },
   "outputs": [
    {
     "name": "stdout",
     "output_type": "stream",
     "text": [
      "cat\n"
     ]
    }
   ],
   "source": [
    "print(prediction)"
   ]
  }
 ],
 "metadata": {
  "colab": {
   "collapsed_sections": [],
   "name": "convolutional_neural_network.ipynb",
   "provenance": [],
   "toc_visible": true
  },
  "kernelspec": {
   "display_name": "Python 3",
   "language": "python",
   "name": "python3"
  },
  "language_info": {
   "codemirror_mode": {
    "name": "ipython",
    "version": 3
   },
   "file_extension": ".py",
   "mimetype": "text/x-python",
   "name": "python",
   "nbconvert_exporter": "python",
   "pygments_lexer": "ipython3",
   "version": "3.5.6"
  }
 },
 "nbformat": 4,
 "nbformat_minor": 1
}
